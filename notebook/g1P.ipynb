{
 "cells": [
  {
   "cell_type": "code",
   "execution_count": 1,
   "metadata": {},
   "outputs": [
    {
     "name": "stderr",
     "output_type": "stream",
     "text": [
      "\u001b[91m\u001b[1mERROR: \u001b[22m\u001b[39mLoadError: "
     ]
    },
    {
     "name": "stderr",
     "output_type": "stream",
     "text": [
      "ArgumentError: Package SparseIR does not have Logging in its dependencies:\n",
      "- You may have a partially installed environment. Try `Pkg.instantiate()`\n",
      "  to ensure all packages in the environment are installed.\n",
      "- Or, if you have SparseIR checked out for development and have\n",
      "  added Logging as a dependency but haven't updated your primary\n",
      "  environment's manifest file, try `Pkg.resolve()`.\n",
      "- Otherwise you may need to report an issue with SparseIR\n",
      "Stacktrace:\n",
      " [1] \u001b[0m\u001b[1mmacro expansion\u001b[22m\n",
      "\u001b[90m   @ \u001b[39m\u001b[90m./\u001b[39m\u001b[90m\u001b[4mloading.jl:1167\u001b[24m\u001b[39m\u001b[90m [inlined]\u001b[39m\n",
      " [2] \u001b[0m\u001b[1mmacro expansion\u001b[22m\n",
      "\u001b[90m   @ \u001b[39m\u001b[90m./\u001b[39m\u001b[90m\u001b[4mlock.jl:223\u001b[24m\u001b[39m\u001b[90m [inlined]\u001b[39m\n",
      " [3] \u001b[0m\u001b[1mrequire\u001b[22m\u001b[0m\u001b[1m(\u001b[22m\u001b[90minto\u001b[39m::\u001b[0mModule, \u001b[90mmod\u001b[39m::\u001b[0mSymbol\u001b[0m\u001b[1m)\u001b[22m\n",
      "\u001b[90m   @ \u001b[39m\u001b[90mBase\u001b[39m \u001b[90m./\u001b[39m\u001b[90m\u001b[4mloading.jl:1144\u001b[24m\u001b[39m\n",
      " [4] \u001b[0m\u001b[1minclude\u001b[22m\n",
      "\u001b[90m   @ \u001b[39m\u001b[90m./\u001b[39m\u001b[90m\u001b[4mBase.jl:419\u001b[24m\u001b[39m\u001b[90m [inlined]\u001b[39m\n",
      " [5] \u001b[0m\u001b[1minclude_package_for_output\u001b[22m\u001b[0m\u001b[1m(\u001b[22m\u001b[90mpkg\u001b[39m::\u001b[0mBase.PkgId, \u001b[90minput\u001b[39m::\u001b[0mString, \u001b[90mdepot_path\u001b[39m::\u001b[0mVector\u001b[90m{String}\u001b[39m, \u001b[90mdl_load_path\u001b[39m::\u001b[0mVector\u001b[90m{String}\u001b[39m, \u001b[90mload_path\u001b[39m::\u001b[0mVector\u001b[90m{String}\u001b[39m, \u001b[90mconcrete_deps\u001b[39m::\u001b[0mVector\u001b[90m{Pair{Base.PkgId, UInt64}}\u001b[39m, \u001b[90msource\u001b[39m::\u001b[0mString\u001b[0m\u001b[1m)\u001b[22m\n",
      "\u001b[90m   @ \u001b[39m\u001b[90mBase\u001b[39m \u001b[90m./\u001b[39m\u001b[90m\u001b[4mloading.jl:1554\u001b[24m\u001b[39m\n",
      " [6] top-level scope\n",
      "\u001b[90m   @ \u001b[39m\u001b[90m\u001b[4mstdin:1\u001b[24m\u001b[39m\n",
      "in expression starting at /Users/ishidayouon/.julia/packages/SparseIR/CqZuE/src/SparseIR.jl:1\n",
      "in expression starting at stdin:1\n"
     ]
    },
    {
     "ename": "ErrorException",
     "evalue": "Failed to precompile SparseIR [4fe2279e-80f0-4adb-8463-ee114ff56b7d] to /Users/ishidayouon/.julia/compiled/v1.8/SparseIR/jl_RAts25.",
     "output_type": "error",
     "traceback": [
      "Failed to precompile SparseIR [4fe2279e-80f0-4adb-8463-ee114ff56b7d] to /Users/ishidayouon/.julia/compiled/v1.8/SparseIR/jl_RAts25.\n",
      "\n",
      "Stacktrace:\n",
      "  [1] error(s::String)\n",
      "    @ Base ./error.jl:35\n",
      "  [2] compilecache(pkg::Base.PkgId, path::String, internal_stderr::IO, internal_stdout::IO, keep_loaded_modules::Bool)\n",
      "    @ Base ./loading.jl:1705\n",
      "  [3] compilecache\n",
      "    @ ./loading.jl:1649 [inlined]\n",
      "  [4] _require(pkg::Base.PkgId)\n",
      "    @ Base ./loading.jl:1337\n",
      "  [5] _require_prelocked(uuidkey::Base.PkgId)\n",
      "    @ Base ./loading.jl:1200\n",
      "  [6] macro expansion\n",
      "    @ ./loading.jl:1180 [inlined]\n",
      "  [7] macro expansion\n",
      "    @ ./lock.jl:223 [inlined]\n",
      "  [8] require(into::Module, mod::Symbol)\n",
      "    @ Base ./loading.jl:1144\n",
      "  [9] eval\n",
      "    @ ./boot.jl:368 [inlined]\n",
      " [10] include_string(mapexpr::typeof(REPL.softscope), mod::Module, code::String, filename::String)\n",
      "    @ Base ./loading.jl:1428\n",
      " [11] #invokelatest#2\n",
      "    @ ./essentials.jl:729 [inlined]\n",
      " [12] invokelatest\n",
      "    @ ./essentials.jl:726 [inlined]\n",
      " [13] (::VSCodeServer.var\"#198#199\"{VSCodeServer.NotebookRunCellArguments, String})()\n",
      "    @ VSCodeServer ~/.vscode/extensions/julialang.language-julia-1.38.2/scripts/packages/VSCodeServer/src/serve_notebook.jl:19\n",
      " [14] withpath(f::VSCodeServer.var\"#198#199\"{VSCodeServer.NotebookRunCellArguments, String}, path::String)\n",
      "    @ VSCodeServer ~/.vscode/extensions/julialang.language-julia-1.38.2/scripts/packages/VSCodeServer/src/repl.jl:249\n",
      " [15] notebook_runcell_request(conn::VSCodeServer.JSONRPC.JSONRPCEndpoint{Base.PipeEndpoint, Base.PipeEndpoint}, params::VSCodeServer.NotebookRunCellArguments)\n",
      "    @ VSCodeServer ~/.vscode/extensions/julialang.language-julia-1.38.2/scripts/packages/VSCodeServer/src/serve_notebook.jl:13\n",
      " [16] dispatch_msg(x::VSCodeServer.JSONRPC.JSONRPCEndpoint{Base.PipeEndpoint, Base.PipeEndpoint}, dispatcher::VSCodeServer.JSONRPC.MsgDispatcher, msg::Dict{String, Any})\n",
      "    @ VSCodeServer.JSONRPC ~/.vscode/extensions/julialang.language-julia-1.38.2/scripts/packages/JSONRPC/src/typed.jl:67\n",
      " [17] serve_notebook(pipename::String, outputchannel_logger::Base.CoreLogging.SimpleLogger; crashreporting_pipename::String)\n",
      "    @ VSCodeServer ~/.vscode/extensions/julialang.language-julia-1.38.2/scripts/packages/VSCodeServer/src/serve_notebook.jl:139\n",
      " [18] top-level scope\n",
      "    @ ~/.vscode/extensions/julialang.language-julia-1.38.2/scripts/notebook/notebook.jl:32"
     ]
    }
   ],
   "source": [
    "using Revise\n",
    "using ITensors\n",
    "using SparseIR\n",
    "using Quantics\n",
    "using Plots\n",
    "\n",
    "ITensors.disable_warn_order()\n",
    "println(ITensors.blas_get_num_threads())\n",
    "newaxis = [CartesianIndex()]"
   ]
  },
  {
   "cell_type": "code",
   "execution_count": 2,
   "metadata": {},
   "outputs": [
    {
     "data": {
      "text/plain": [
       "10-element Vector{Index{Int64}}:\n",
       " (dim=2|id=621|\"Qubit,iω=1\")\n",
       " (dim=2|id=928|\"Qubit,iω=2\")\n",
       " (dim=2|id=996|\"Qubit,iω=3\")\n",
       " (dim=2|id=755|\"Qubit,iω=4\")\n",
       " (dim=2|id=109|\"Qubit,iω=5\")\n",
       " (dim=2|id=318|\"Qubit,iω=6\")\n",
       " (dim=2|id=13|\"Qubit,iω=7\")\n",
       " (dim=2|id=12|\"Qubit,iω=8\")\n",
       " (dim=2|id=381|\"Qubit,iω=9\")\n",
       " (dim=2|id=90|\"Qubit,iω=10\")"
      ]
     },
     "metadata": {},
     "output_type": "display_data"
    }
   ],
   "source": [
    "R = 10\n",
    "N = 2^R\n",
    "halfN = 2^(R-1)\n",
    "sitesτ = [Index(2, \"Qubit, τ=$n\") for n in 1:R]\n",
    "sitesiω = [Index(2, \"Qubit, iω=$n\") for n in 1:R]"
   ]
  },
  {
   "cell_type": "markdown",
   "metadata": {},
   "source": [
    "First, we construct a QTT of $G(\\tau) = -\\frac{e^{-\\tau\\omega}}{1 + e^{-\\beta \\omega}}$."
   ]
  },
  {
   "cell_type": "code",
   "execution_count": 3,
   "metadata": {},
   "outputs": [
    {
     "ename": "UndefVarError",
     "evalue": "UndefVarError: Quantics not defined",
     "output_type": "error",
     "traceback": [
      "UndefVarError: Quantics not defined\n",
      "\n",
      "Stacktrace:\n",
      " [1] top-level scope\n",
      "   @ ~/Dropbox/大学関連/研究/Quantics.jl/notebook/g1P.ipynb:3"
     ]
    }
   ],
   "source": [
    "β = 10.0\n",
    "ω = 1.0\n",
    "gtau = Quantics.poletomps(sitesτ, β, ω)"
   ]
  },
  {
   "cell_type": "markdown",
   "metadata": {},
   "source": [
    "We reconstruct $G(\\tau)$ from the QTT."
   ]
  },
  {
   "cell_type": "code",
   "execution_count": 4,
   "metadata": {},
   "outputs": [
    {
     "ename": "UndefVarError",
     "evalue": "UndefVarError: gtau not defined",
     "output_type": "error",
     "traceback": [
      "UndefVarError: gtau not defined\n",
      "\n",
      "Stacktrace:\n",
      " [1] top-level scope\n",
      "   @ ~/Dropbox/大学関連/研究/Quantics.jl/notebook/g1P.ipynb:1"
     ]
    }
   ],
   "source": [
    "gtau_reconst = vec(Array(reduce(*, gtau), reverse(sitesτ)))\n",
    "\n",
    "plot(LinRange(0, β, N+1)[1:end-1], gtau_reconst, xlabel=\"tau\", ylabel=\"G(tau)\")"
   ]
  },
  {
   "cell_type": "code",
   "execution_count": 5,
   "metadata": {},
   "outputs": [
    {
     "ename": "UndefVarError",
     "evalue": "UndefVarError: Fermionic not defined",
     "output_type": "error",
     "traceback": [
      "UndefVarError: Fermionic not defined\n",
      "\n",
      "Stacktrace:\n",
      " [1] top-level scope\n",
      "   @ ~/Dropbox/大学関連/研究/Quantics.jl/notebook/g1P.ipynb:1"
     ]
    }
   ],
   "source": [
    "giω = Quantics.to_wn(Fermionic(), gtau, β; tag=\"τ\", sitesdst=sitesiω)"
   ]
  },
  {
   "cell_type": "code",
   "execution_count": 6,
   "metadata": {},
   "outputs": [
    {
     "ename": "UndefVarError",
     "evalue": "UndefVarError: giω not defined",
     "output_type": "error",
     "traceback": [
      "UndefVarError: giω not defined\n",
      "\n",
      "Stacktrace:\n",
      " [1] top-level scope\n",
      "   @ ~/Dropbox/大学関連/研究/Quantics.jl/notebook/g1P.ipynb:1"
     ]
    }
   ],
   "source": [
    "giω_reconst = vec(Array(reduce(*, giω), reverse(sitesiω)))\n",
    ";"
   ]
  },
  {
   "cell_type": "code",
   "execution_count": 7,
   "metadata": {},
   "outputs": [
    {
     "ename": "UndefVarError",
     "evalue": "UndefVarError: SparseIR not defined",
     "output_type": "error",
     "traceback": [
      "UndefVarError: SparseIR not defined\n",
      "\n",
      "Stacktrace:\n",
      " [1] top-level scope\n",
      "   @ ~/Dropbox/大学関連/研究/Quantics.jl/notebook/g1P.ipynb:1"
     ]
    }
   ],
   "source": [
    "ωn = SparseIR.FermionicFreq.(2 .* collect(-halfN:halfN-1) .+ 1)\n",
    "giω_ref = 1 ./ (SparseIR.valueim.(ωn, β) .- ω)"
   ]
  },
  {
   "cell_type": "code",
   "execution_count": 8,
   "metadata": {},
   "outputs": [
    {
     "ename": "UndefVarError",
     "evalue": "UndefVarError: plot not defined",
     "output_type": "error",
     "traceback": [
      "UndefVarError: plot not defined\n",
      "\n",
      "Stacktrace:\n",
      " [1] top-level scope\n",
      "   @ ~/Dropbox/大学関連/研究/Quantics.jl/notebook/g1P.ipynb:1"
     ]
    }
   ],
   "source": [
    "p = plot()\n",
    "plot!(p, imag.(giω_ref), marker=:x)\n",
    "plot!(p, imag.(giω_reconst))"
   ]
  },
  {
   "cell_type": "code",
   "execution_count": 9,
   "metadata": {},
   "outputs": [
    {
     "ename": "UndefVarError",
     "evalue": "UndefVarError: plot not defined",
     "output_type": "error",
     "traceback": [
      "UndefVarError: plot not defined\n",
      "\n",
      "Stacktrace:\n",
      " [1] top-level scope\n",
      "   @ ~/Dropbox/大学関連/研究/Quantics.jl/notebook/g1P.ipynb:1"
     ]
    }
   ],
   "source": [
    "p = plot(yaxis=:log)\n",
    "plot!(p, abs.(giω_ref))\n",
    "plot!(p, abs.(giω_ref .- giω_reconst))"
   ]
  }
 ],
 "metadata": {
  "kernelspec": {
   "display_name": "Julia 1.8.1",
   "language": "julia",
   "name": "julia-1.8"
  },
  "language_info": {
   "file_extension": ".jl",
   "mimetype": "application/julia",
   "name": "julia",
   "version": "1.8.1"
  },
  "orig_nbformat": 4
 },
 "nbformat": 4,
 "nbformat_minor": 2
}
