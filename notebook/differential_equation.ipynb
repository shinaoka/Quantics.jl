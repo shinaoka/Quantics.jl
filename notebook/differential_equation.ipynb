{
 "cells": [
  {
   "cell_type": "code",
   "execution_count": null,
   "metadata": {},
   "outputs": [],
   "source": [
    "using Revise\n",
    "using Quantics\n",
    "import Quantics: DiscretizedGrid\n",
    "using Plots\n",
    "import TensorCrossInterpolation as TCI\n",
    "\n",
    "using ITensors\n",
    "ITensors.disable_warn_order()"
   ]
  },
  {
   "attachments": {},
   "cell_type": "markdown",
   "metadata": {},
   "source": [
    "## Differrential equation\n",
    "\n",
    "$$\n",
    "\\frac{d f(t)}{d t} = - a f(t),\n",
    "$$\n",
    "where $0 \\le t < t_\\mathrm{max}$, $a > 0$ with the boundary condition $f(0) = 1$.\n",
    "\n",
    "The solution is \n",
    "\n",
    "$$\n",
    "f(t) = e^{- a t}.\n",
    "$$\n",
    "\n",
    "In QTT, we solve the equation for $g(t) \\equiv \\frac{d f(t)}{d t}$."
   ]
  },
  {
   "cell_type": "code",
   "execution_count": null,
   "metadata": {},
   "outputs": [],
   "source": [
    "R = 16\n",
    "tmax = 10.0\n",
    "a = 2.0\n",
    "f0 = 1.0\n",
    "\n",
    "grid = DiscretizedGrid{1}(R, (0.0,), (tmax,))\n",
    "times = collect(LinRange(0.0, tmax, 2^R+1)[1:end-1])\n",
    "sites = [Index(2, \"Qubit,q=$q\") for q in 1:R]"
   ]
  },
  {
   "cell_type": "code",
   "execution_count": null,
   "metadata": {},
   "outputs": [],
   "source": [
    "integrator = (tmax/2.0^R) * Quantics.upper_lower_triangle_matrix(sites, 1.0; upper_or_lower=:lower)"
   ]
  },
  {
   "attachments": {},
   "cell_type": "markdown",
   "metadata": {},
   "source": [
    "## First check exact solution"
   ]
  },
  {
   "cell_type": "code",
   "execution_count": null,
   "metadata": {},
   "outputs": [],
   "source": [
    "gmps = -a * Quantics.expqtt(sites, - a * tmax)"
   ]
  },
  {
   "cell_type": "code",
   "execution_count": null,
   "metadata": {},
   "outputs": [],
   "source": [
    "gt = vec(Array(reduce(*, gmps), reverse(sites)))\n",
    "\n",
    "#p = plot(yaxis=:log)\n",
    "p = plot()\n",
    "plot!(p, times, gt, marker=:x)\n",
    "plot!(p, times, -a .* exp.(-a .* times))"
   ]
  },
  {
   "cell_type": "code",
   "execution_count": null,
   "metadata": {},
   "outputs": [],
   "source": [
    "fmps = apply(integrator, gmps) + f0 * Quantics.onemps(Float64, sites)"
   ]
  },
  {
   "cell_type": "code",
   "execution_count": null,
   "metadata": {},
   "outputs": [],
   "source": [
    "ft = vec(Array(reduce(*, fmps), reverse(sites)))"
   ]
  },
  {
   "cell_type": "code",
   "execution_count": null,
   "metadata": {},
   "outputs": [],
   "source": [
    "p = plot()\n",
    "plot!(p, times, ft)\n",
    "plot!(p, times, exp.(-a .* times))"
   ]
  },
  {
   "attachments": {},
   "cell_type": "markdown",
   "metadata": {},
   "source": [
    "## Iterative solution"
   ]
  },
  {
   "cell_type": "code",
   "execution_count": null,
   "metadata": {},
   "outputs": [],
   "source": [
    "# Compute g(t) from g(t)\n",
    "function new_gt(gmps::MPS; kwargs...)::MPS\n",
    "    fmps = apply(integrator, gmps; kwargs...) + f0 * Quantics.onemps(Float64, sites)\n",
    "    return -a * fmps\n",
    "end"
   ]
  },
  {
   "cell_type": "code",
   "execution_count": null,
   "metadata": {},
   "outputs": [],
   "source": [
    "gmps = 0.0 * Quantics.onemps(Float64, sites) # 0 everywhere\n",
    "\n",
    "mix = 0.5\n",
    "for iter in 1:20\n",
    "    bondim = maximum(dim.(linkinds(gmps)))\n",
    "    println(\"iter= $(iter), D= $(bondim)\")\n",
    "    gmps = mix * new_gt(gmps; cutoff=1e-20) + (1-mix) * gmps\n",
    "end"
   ]
  },
  {
   "cell_type": "code",
   "execution_count": null,
   "metadata": {},
   "outputs": [],
   "source": [
    "gt = vec(Array(reduce(*, gmps), reverse(sites)))\n",
    "\n",
    "p = plot()\n",
    "plot!(p, times, gt, marker=:x)\n",
    "plot!(p, times, -a .* exp.(-a .* times))"
   ]
  },
  {
   "cell_type": "code",
   "execution_count": null,
   "metadata": {},
   "outputs": [],
   "source": []
  }
 ],
 "metadata": {
  "kernelspec": {
   "display_name": "Julia 1.9.1",
   "language": "julia",
   "name": "julia-1.9"
  },
  "language_info": {
   "file_extension": ".jl",
   "mimetype": "application/julia",
   "name": "julia",
   "version": "1.9.1"
  },
  "orig_nbformat": 4
 },
 "nbformat": 4,
 "nbformat_minor": 2
}
