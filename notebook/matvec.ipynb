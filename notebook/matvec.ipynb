{
 "cells": [
  {
   "cell_type": "code",
   "execution_count": null,
   "metadata": {},
   "outputs": [],
   "source": [
    "using Revise\n",
    "using ITensors\n",
    "#using ITensorTDVP\n",
    "import Quantics"
   ]
  },
  {
   "cell_type": "code",
   "execution_count": null,
   "metadata": {},
   "outputs": [],
   "source": [
    "R = 4\n",
    "\n",
    "sitesx = [Index(2, \"Qubit, x=$n\") for n in 1:R]\n",
    "sitesy = [Index(2, \"Qubit, y=$n\") for n in 1:R]\n",
    "sitesz = [Index(1, \"z=$n\") for n in 1:R] # dummy index of size 1"
   ]
  },
  {
   "cell_type": "code",
   "execution_count": null,
   "metadata": {},
   "outputs": [],
   "source": [
    "sitesxy = collect(Iterators.flatten(zip(sitesx, sitesy)))\n",
    "sitesyz = collect(Iterators.flatten(zip(sitesy, sitesz)))"
   ]
  },
  {
   "cell_type": "code",
   "execution_count": null,
   "metadata": {},
   "outputs": [],
   "source": [
    "A = randomMPS(sitesxy; linkdims=2)"
   ]
  },
  {
   "cell_type": "code",
   "execution_count": null,
   "metadata": {},
   "outputs": [],
   "source": [
    "B = randomMPS(sitesy; linkdims=2)"
   ]
  },
  {
   "cell_type": "code",
   "execution_count": null,
   "metadata": {},
   "outputs": [],
   "source": [
    "# Insert dummy z indices\n",
    "B_ext = MPS([x for x in Quantics.matchsiteinds(B, sitesyz)])"
   ]
  },
  {
   "cell_type": "code",
   "execution_count": null,
   "metadata": {},
   "outputs": [],
   "source": [
    "AB_ext = Quantics.automul(A, B_ext; tag_row=\"x\", tag_col=\"z\", tag_shared=\"y\", alg=\"fit\")"
   ]
  },
  {
   "cell_type": "code",
   "execution_count": null,
   "metadata": {},
   "outputs": [],
   "source": [
    "# Remove the dummy index z\n",
    "AB = MPS([AB_ext[2n-1] * AB_ext[2n] * onehot(sitesz[n]=>1) for n in 1:R])"
   ]
  },
  {
   "cell_type": "code",
   "execution_count": null,
   "metadata": {},
   "outputs": [],
   "source": [
    "# Check\n",
    "AB_reconst = vec(Array(reduce(*, AB), reverse(sitesx)))\n",
    "\n",
    "Amat = reshape(Array(reduce(*, A), vcat(reverse(sitesx), reverse(sitesy))), 2^R, 2^R)\n",
    "Bvec = vec(Array(reduce(*, B), reverse(sitesy)))\n",
    "Amat * Bvec ≈ AB_reconst"
   ]
  }
 ],
 "metadata": {
  "kernelspec": {
   "display_name": "Julia 1.8.5",
   "language": "julia",
   "name": "julia-1.8"
  },
  "language_info": {
   "file_extension": ".jl",
   "mimetype": "application/julia",
   "name": "julia",
   "version": "1.8.5"
  },
  "orig_nbformat": 4
 },
 "nbformat": 4,
 "nbformat_minor": 2
}
