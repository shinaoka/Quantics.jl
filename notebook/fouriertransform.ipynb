{
 "cells": [
  {
   "cell_type": "code",
   "execution_count": null,
   "metadata": {},
   "outputs": [],
   "source": [
    "using Revise\n",
    "using ITensors\n",
    "using Quantics\n",
    "using Plots"
   ]
  },
  {
   "cell_type": "code",
   "execution_count": null,
   "metadata": {},
   "outputs": [],
   "source": [
    "R = 10\n",
    "N = 2^R"
   ]
  },
  {
   "cell_type": "markdown",
   "metadata": {},
   "source": [
    "In the $x$ domain, we consider the function\n",
    "\n",
    "$$\n",
    "f(x) = \\delta_{x,1}\n",
    "$$\n",
    "\n",
    "for $x \\in [0, 2^R)$.\n",
    "\n",
    "The Fourier-transformed function $g(k)$ ($k\\in [0, 2^R]$) is defined as\n",
    "\n",
    "$$\n",
    "g(k) = \\frac{1}{\\sqrt{N}} \\sum_{x=0}^{N-1} f(x) e^{2\\pi\\mathrm{i} k x/N} =  \\frac{1}{\\sqrt{N}} e^{2\\pi\\mathrm{i} k/N}.\n",
    "$$\n",
    "\n",
    "First, we construct a QTT of $f(x)$:"
   ]
  },
  {
   "cell_type": "code",
   "execution_count": null,
   "metadata": {},
   "outputs": [],
   "source": [
    "sitesx = [Index(2, \"Qubit, x=$n\") for n in 1:R]\n",
    "siteskx = [Index(2, \"Qubit, k=$n\") for n in 1:R]\n",
    "fx = Quantics.directprod(Float64, sitesx, Quantics.tobin(1, R) .+ 1)\n",
    "fx_reconst = vec(Array(reduce(*, fx), reverse(sitesx)))"
   ]
  },
  {
   "cell_type": "code",
   "execution_count": null,
   "metadata": {},
   "outputs": [],
   "source": [
    "gk = Quantics.fouriertransform(fx; sign=1, tag=\"x\", sitesdst=siteskx)"
   ]
  },
  {
   "cell_type": "code",
   "execution_count": null,
   "metadata": {},
   "outputs": [],
   "source": [
    "gk_reconst = vec(Array(reduce(*, gk), reverse(siteskx)))\n",
    ";"
   ]
  },
  {
   "cell_type": "code",
   "execution_count": null,
   "metadata": {},
   "outputs": [],
   "source": [
    "gk_ref = [exp(2π * im * k/N) for k in 0:N-1] ./ sqrt(N)\n",
    ";"
   ]
  },
  {
   "cell_type": "code",
   "execution_count": null,
   "metadata": {},
   "outputs": [],
   "source": [
    "#p = plot()\n",
    "#plot!(p, real.(gk_ref), marker=:x)\n",
    "plot(abs.(gk_ref .- gk_reconst))"
   ]
  }
 ],
 "metadata": {
  "kernelspec": {
   "display_name": "Julia 1.8.1",
   "language": "julia",
   "name": "julia-1.8"
  },
  "language_info": {
   "file_extension": ".jl",
   "mimetype": "application/julia",
   "name": "julia",
   "version": "1.8.1"
  },
  "orig_nbformat": 4
 },
 "nbformat": 4,
 "nbformat_minor": 2
}
