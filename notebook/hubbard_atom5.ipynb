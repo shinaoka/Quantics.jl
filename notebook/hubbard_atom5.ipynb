{
 "cells": [
  {
   "attachments": {},
   "cell_type": "markdown",
   "metadata": {},
   "source": [
    "# Vertices for Hubbard atom"
   ]
  },
  {
   "cell_type": "code",
   "execution_count": null,
   "metadata": {},
   "outputs": [],
   "source": [
    "using Revise\n",
    "using LinearAlgebra\n",
    "using SparseIR\n",
    "import SparseIR: valueim\n",
    "using Quantics\n",
    "import Quantics: QuanticsInd, index_to_fused_quantics\n",
    "using OvercompleteIR\n",
    "import OvercompleteIR: PHConvention, freq_box\n",
    "import OvercompleteIR.Atom: HubbardAtom, MagneticChannel, chi0, full_vertex, gamma\n",
    "using Plots\n",
    "import TensorCrossInterpolation as TCI\n",
    "\n",
    "newaxis = [CartesianIndex()]"
   ]
  },
  {
   "cell_type": "code",
   "execution_count": null,
   "metadata": {},
   "outputs": [],
   "source": [
    "using ITensors"
   ]
  },
  {
   "cell_type": "code",
   "execution_count": null,
   "metadata": {},
   "outputs": [],
   "source": [
    "U = 1.0\n",
    "beta  = 10.0\n",
    "ch = DensityChannel()\n",
    "conv = PHConvention()\n",
    "model = HubbardAtom(U, beta)"
   ]
  },
  {
   "cell_type": "code",
   "execution_count": null,
   "metadata": {},
   "outputs": [],
   "source": [
    "# TCI with R bits\n",
    "function create_func(func, R)\n",
    "    # Origin of frequency box\n",
    "    origin = -2^(R-1)\n",
    "\n",
    "    m = Quantics.InherentDiscreteGrid{3}(R, (origin, origin, origin))\n",
    "\n",
    "    function q_to_n(q::Vector{QuanticsInd{3}})::NTuple{3, Int}\n",
    "        return Quantics.originalcoordinate(m, reverse(q)) # Resverse quantics indices\n",
    "    end\n",
    "\n",
    "    function func_q(q::Vector{QuanticsInd{3}})::ComplexF64\n",
    "        idx_3d = q_to_n(q)\n",
    "        if iseven(idx_3d[1]) || iseven(idx_3d[2]) || isodd(idx_3d[3])\n",
    "            return 0.0\n",
    "        end\n",
    "        return func((FermionicFreq(idx_3d[1]), FermionicFreq(idx_3d[2]), BosonicFreq(idx_3d[3])))\n",
    "    end\n",
    "\n",
    "    return q_to_n, func_q, m\n",
    "end\n",
    "\n",
    "R = 20\n",
    "q2n, fq, mesh = create_func(w->gamma(ch, model, w), R)\n",
    ";"
   ]
  },
  {
   "cell_type": "code",
   "execution_count": null,
   "metadata": {},
   "outputs": [],
   "source": [
    "fI = x->fq(QuanticsInd{3}.(x))\n",
    "localdims = fill(8, R)\n",
    "\n",
    "firstpivot = convert.(Int, index_to_fused_quantics((2, 2, 1), R))\n",
    "\n",
    "@show fI(firstpivot)\n",
    "firstpivot = TCI.optfirstpivot(fI, localdims, firstpivot)\n",
    "@show fI(firstpivot)"
   ]
  },
  {
   "cell_type": "code",
   "execution_count": null,
   "metadata": {},
   "outputs": [],
   "source": [
    "tol = 1e-5\n",
    "\n",
    "qtt, ranks, errors = TCI.crossinterpolate2(\n",
    "    ComplexF64, fI, localdims,\n",
    "    [firstpivot], tolerance=tol, maxiter=10, verbosity=1\n",
    ")"
   ]
  },
  {
   "cell_type": "code",
   "execution_count": null,
   "metadata": {},
   "outputs": [],
   "source": [
    "TCI.makecanonical!(qtt, fI)"
   ]
  },
  {
   "cell_type": "code",
   "execution_count": null,
   "metadata": {},
   "outputs": [],
   "source": [
    "#TCI.print_nesting_info(qtt)"
   ]
  },
  {
   "cell_type": "code",
   "execution_count": null,
   "metadata": {},
   "outputs": [],
   "source": [
    "nglobalpivots = TCI.insert_global_pivots!(qtt, fI, nsearch=20, verbosity=1, tolerance=tol)"
   ]
  },
  {
   "cell_type": "code",
   "execution_count": null,
   "metadata": {},
   "outputs": [],
   "source": [
    "q_diagonal = [Quantics.to_quantics(mesh, (2, 2, 1) .+ i) for i in 0:2^(R-5):2^R-1]\n",
    "reconst_diagonal = [TCI.evaluate(qtt, convert.(Int, q)) for q in q_diagonal]\n",
    "ref_diagonal = fq.(q_diagonal)\n",
    ";"
   ]
  },
  {
   "cell_type": "code",
   "execution_count": null,
   "metadata": {},
   "outputs": [],
   "source": [
    "plot(TCI.linkdims(qtt))"
   ]
  },
  {
   "cell_type": "code",
   "execution_count": null,
   "metadata": {},
   "outputs": [],
   "source": [
    "p = plot(yaxis=:log, ylims=(1e-10,1e+4))\n",
    "plot!(p, abs.(reconst_diagonal), marker=:x)\n",
    "plot!(p, abs.(ref_diagonal), marker=:+)\n",
    "plot!(p, abs.(ref_diagonal .- reconst_diagonal))"
   ]
  },
  {
   "cell_type": "code",
   "execution_count": null,
   "metadata": {},
   "outputs": [],
   "source": [
    "f = collect(-101:2:101)\n",
    "b = 2\n",
    "\n",
    "is = collect(Iterators.product(f, f,  b))\n",
    "ws = [Quantics.gridpoint(mesh, i) for i in is]\n",
    "qs = [Quantics.to_quantics(mesh, w) for w in ws]\n",
    "\n",
    "vals = [TCI.evaluate(qtt, convert.(Int, q)) for q in qs]\n",
    "refs = fq.(qs)\n",
    ";"
   ]
  },
  {
   "cell_type": "code",
   "execution_count": null,
   "metadata": {},
   "outputs": [],
   "source": [
    "heatmap((abs.(vals)))"
   ]
  },
  {
   "cell_type": "code",
   "execution_count": null,
   "metadata": {},
   "outputs": [],
   "source": [
    "heatmap((abs.(refs)))"
   ]
  },
  {
   "cell_type": "code",
   "execution_count": null,
   "metadata": {},
   "outputs": [],
   "source": [
    "col = size(refs, 2) ÷ 2\n",
    "p = plot(yaxis=:log, ylims=(1e-10,1e+4))\n",
    "plot!(p, abs.(refs[:, col]), marker=:x)\n",
    "plot!(p, abs.(vals[:, col]), marker=:o)\n",
    "plot!(p, abs.(refs[:, col] .- vals[:, col]))"
   ]
  },
  {
   "cell_type": "code",
   "execution_count": null,
   "metadata": {},
   "outputs": [],
   "source": [
    "heatmap(log.(abs.(vals .- refs)))"
   ]
  },
  {
   "cell_type": "code",
   "execution_count": null,
   "metadata": {},
   "outputs": [],
   "source": [
    "plot(TCI.linkdims(qtt), yaxis=:log, marker=:x)"
   ]
  }
 ],
 "metadata": {
  "kernelspec": {
   "display_name": "Julia 1.9.1",
   "language": "julia",
   "name": "julia-1.9"
  },
  "language_info": {
   "file_extension": ".jl",
   "mimetype": "application/julia",
   "name": "julia",
   "version": "1.9.1"
  }
 },
 "nbformat": 4,
 "nbformat_minor": 4
}
