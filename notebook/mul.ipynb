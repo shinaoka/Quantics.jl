{
 "cells": [
  {
   "cell_type": "code",
   "execution_count": null,
   "metadata": {},
   "outputs": [],
   "source": [
    "using Revise\n",
    "using ITensors\n",
    "using Quantics"
   ]
  },
  {
   "cell_type": "code",
   "execution_count": null,
   "metadata": {},
   "outputs": [],
   "source": [
    "\"\"\"\n",
    "Reconstruct 3D matrix\n",
    "\"\"\"\n",
    "function _tomat3(a)\n",
    "    sites = siteinds(a)\n",
    "    N = length(sites)\n",
    "    Nreduced = N ÷ 3\n",
    "    sites_ = [sites[1:3:N]..., sites[2:3:N]..., sites[3:3:N]...]\n",
    "    return reshape(Array(reduce(*, a), sites_), 2^Nreduced, 2^Nreduced, 2^Nreduced)\n",
    "end"
   ]
  },
  {
   "cell_type": "code",
   "execution_count": null,
   "metadata": {},
   "outputs": [],
   "source": [
    "nbit = 2\n",
    "D = 2\n",
    "sx = [Index(2, \"Qubit,x=$n\") for n in 1:nbit]\n",
    "sy = [Index(2, \"Qubit,y=$n\") for n in 1:nbit]\n",
    "sz = [Index(2, \"Qubit,z=$n\") for n in 1:nbit]\n",
    "sk = [Index(2, \"Qubit,k=$n\") for n in 1:nbit]"
   ]
  },
  {
   "cell_type": "code",
   "execution_count": null,
   "metadata": {},
   "outputs": [],
   "source": [
    "\"\"\"\n",
    "Matrix multiplication for x, y, z and elementwise multiplication for k\n",
    "\n",
    "C(x, z, k) = sum_y A(x, y, k) * B(y, z, k)\n",
    "\n",
    "automul performs elementwise and matrix multiplication for two MPSs\n",
    "\"\"\"\n",
    "sites_a = collect(Iterators.flatten(zip(sx, sy, sk)))\n",
    "sites_b = collect(Iterators.flatten(zip(sy, sz, sk)))\n",
    "\n",
    "a = randomMPS(ComplexF64, sites_a; linkdims=D)\n",
    "b = randomMPS(ComplexF64, sites_b; linkdims=D)\n",
    "\n",
    "# Reference data\n",
    "a_arr = _tomat3(a)\n",
    "b_arr = _tomat3(b)\n",
    "ab_arr = zeros(ComplexF64, 2^nbit, 2^nbit, 2^nbit)\n",
    "for k in 1:(2^nbit)\n",
    "    ab_arr[:, :, k] .= a_arr[:, :, k] * b_arr[:, :, k]\n",
    "end\n",
    "\n",
    "#ab = Quantics.automul(a, b; tag_row=\"x\", tag_shared=\"y\", tag_col=\"z\", alg=\"naive\")\n",
    "ab = Quantics.automul(a, b; tag_row=\"x\", tag_shared=\"y\", tag_col=\"z\", alg=\"fit\")\n",
    "ab_arr_reconst = _tomat3(ab)\n",
    "@assert ab_arr ≈ ab_arr_reconst"
   ]
  }
 ],
 "metadata": {
  "kernelspec": {
   "display_name": "Julia 1.8.5",
   "language": "julia",
   "name": "julia-1.8"
  },
  "language_info": {
   "file_extension": ".jl",
   "mimetype": "application/julia",
   "name": "julia",
   "version": "1.8.5"
  },
  "orig_nbformat": 4
 },
 "nbformat": 4,
 "nbformat_minor": 2
}
