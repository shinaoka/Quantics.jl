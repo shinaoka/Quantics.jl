{
 "cells": [
  {
   "attachments": {},
   "cell_type": "markdown",
   "metadata": {},
   "source": [
    "# 2D Function with discontinuity line"
   ]
  },
  {
   "cell_type": "code",
   "execution_count": null,
   "metadata": {},
   "outputs": [],
   "source": [
    "using Revise\n",
    "using Quantics\n",
    "import Quantics: QuanticsInd\n",
    "using Plots\n",
    "import TensorCrossInterpolation as TCI\n",
    "\n",
    "newaxis = [CartesianIndex()]"
   ]
  },
  {
   "cell_type": "code",
   "execution_count": null,
   "metadata": {},
   "outputs": [],
   "source": [
    "using ITensors"
   ]
  },
  {
   "cell_type": "code",
   "execution_count": null,
   "metadata": {},
   "outputs": [],
   "source": [
    "# TCI with R bits\n",
    "function create_func(θ, R)\n",
    "    g = Quantics.DiscretizedGrid{2}(R)\n",
    "\n",
    "    function q_to_n(q::Vector{QuanticsInd{2}})::NTuple{2, Float64}\n",
    "        return Quantics.originalcoordinate(g, q)\n",
    "    end\n",
    "\n",
    "    function func_q(q::Vector{QuanticsInd{2}})::Float64\n",
    "        p = q_to_n(q)\n",
    "        return p[2]/p[1] < tan(θ) ? 1.0 : 0.0\n",
    "    end\n",
    "\n",
    "    return q_to_n, func_q, g\n",
    "end\n",
    "\n",
    "R = 10\n",
    "q2n, fq, g = create_func(π/6, R)\n",
    ";"
   ]
  },
  {
   "cell_type": "code",
   "execution_count": null,
   "metadata": {},
   "outputs": [],
   "source": [
    "fI = x->fq(QuanticsInd{2}.(x))\n",
    "localdims = fill(4, R)\n",
    "\n",
    "firstpivot = ones(Int, R)\n",
    "@show fI(firstpivot)\n",
    "firstpivot = TCI.optfirstpivot(fI, localdims, firstpivot)\n",
    "@show fI(firstpivot)"
   ]
  },
  {
   "cell_type": "code",
   "execution_count": null,
   "metadata": {},
   "outputs": [],
   "source": [
    "qtt, ranks, errors = TCI.crossinterpolate2(\n",
    "    Float64, fI, localdims,\n",
    "    [firstpivot], tolerance=1e-8, maxiter=10, verbosity=1\n",
    ")"
   ]
  },
  {
   "cell_type": "code",
   "execution_count": null,
   "metadata": {},
   "outputs": [],
   "source": [
    "coordinates = [(x, 0.5) for x in collect(LinRange(0, 1, 2^R + 1)[1:(end - 1)])]\n",
    "gridpoints = [Quantics.gridpoint(g, c) for c in coordinates]\n",
    "qs = [Quantics.to_quantics(g, p) for p in gridpoints]\n",
    "\n",
    "reconsts = [TCI.evaluate(qtt, convert.(Int, q)) for q in qs]\n",
    "refs = fq.(qs)\n",
    ";"
   ]
  },
  {
   "cell_type": "code",
   "execution_count": null,
   "metadata": {},
   "outputs": [],
   "source": [
    "p = plot(yaxis=:log, ylims=(1e-10,1e+4))\n",
    "plot!(p, abs.(reconsts), marker=:x)\n",
    "plot!(p, abs.(refs), marker=:+)\n",
    "plot!(p, abs.(refs .- reconsts))"
   ]
  },
  {
   "cell_type": "code",
   "execution_count": null,
   "metadata": {},
   "outputs": [],
   "source": [
    "f = collect(LinRange(0, 0.1, 100)[1:end-1])\n",
    "\n",
    "cs_2d = collect(Iterators.product(f, f))\n",
    "gridpoints_2d = [Quantics.gridpoint(g, c) for c in cs_2d]\n",
    "qs_2d = [Quantics.to_quantics(g, p) for p in gridpoints_2d]\n",
    "\n",
    "vals = [TCI.evaluate(qtt, convert.(Int, q)) for q in qs_2d]\n",
    ";"
   ]
  },
  {
   "cell_type": "code",
   "execution_count": null,
   "metadata": {},
   "outputs": [],
   "source": [
    "heatmap(log.(abs.(vals)))"
   ]
  },
  {
   "cell_type": "code",
   "execution_count": null,
   "metadata": {},
   "outputs": [],
   "source": []
  }
 ],
 "metadata": {
  "kernelspec": {
   "display_name": "Julia 1.9.1",
   "language": "julia",
   "name": "julia-1.9"
  },
  "language_info": {
   "file_extension": ".jl",
   "mimetype": "application/julia",
   "name": "julia",
   "version": "1.9.1"
  }
 },
 "nbformat": 4,
 "nbformat_minor": 4
}
