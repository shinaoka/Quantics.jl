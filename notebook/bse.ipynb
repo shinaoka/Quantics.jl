{
 "cells": [
  {
   "cell_type": "markdown",
   "metadata": {},
   "source": [
    "# Vertices for Hubbard atom"
   ]
  },
  {
   "cell_type": "code",
   "execution_count": null,
   "metadata": {},
   "outputs": [],
   "source": [
    "using Revise\n",
    "using PyPlot\n",
    "\n",
    "using OvercompleteIR\n",
    "using OvercompleteIR.Atom\n",
    "using OvercompleteIR.SparseIR\n",
    "using OvercompleteIR.LinearAlgebra\n",
    "\n",
    "using ITensors\n",
    "using Quantics\n",
    "\n",
    "d = DensityChannel()\n",
    "m = MagneticChannel()\n",
    "s = SingletChannel()\n",
    "t = TripletChannel()"
   ]
  },
  {
   "cell_type": "code",
   "execution_count": null,
   "metadata": {},
   "outputs": [],
   "source": [
    "U = 0.1\n",
    "β = 0.2\n",
    "at = Atom.HubbardAtom(U, β)\n",
    "conv = Atom.PHConventionThunstroem()"
   ]
  },
  {
   "cell_type": "code",
   "execution_count": null,
   "metadata": {},
   "outputs": [],
   "source": [
    "N = 4\n",
    "half_N = N ÷ 2\n",
    "nw = 2^N\n",
    "half_nw = 2^(N-1)\n",
    "\n",
    "ννω = OvercompleteIR.conv_type(conv).(\n",
    "    Iterators.product(\n",
    "        FermionicFreq(-2*half_nw+1):FermionicFreq(2*half_nw-1),\n",
    "        FermionicFreq(-2*half_nw+1):FermionicFreq(2*half_nw-1),\n",
    "        BosonicFreq(-2*half_nw):BosonicFreq(2*half_nw-2)\n",
    "    )\n",
    ")\n",
    "\n",
    "νω =  Iterators.product(\n",
    "        FermionicFreq(-2*half_nw+1):FermionicFreq(2*half_nw-1),\n",
    "        BosonicFreq(-2*half_nw):BosonicFreq(2*half_nw-2)\n",
    "    )\n",
    ";"
   ]
  },
  {
   "cell_type": "code",
   "execution_count": null,
   "metadata": {},
   "outputs": [],
   "source": [
    "channel = s\n",
    "Γ  = Atom.Γ.(channel, at, ννω)\n",
    "X₀ = Atom.χ₀.(channel, at, νω)\n",
    "F  = Atom.F.(channel, at, ννω)\n",
    "Φ = F .- Γ\n",
    "\n",
    "X₀_full = zero(Γ)\n",
    "for i in 1:nw\n",
    "    X₀_full[i, i, :] = X₀[i, :]\n",
    "end\n",
    ";"
   ]
  },
  {
   "cell_type": "code",
   "execution_count": null,
   "metadata": {},
   "outputs": [],
   "source": [
    "function evalF(channel, ννω, Γ, X₀, F)\n",
    "    Φ = Array{ComplexF64}(undef, size(ννω))\n",
    "    for I in CartesianIndices(Φ)\n",
    "        (ν, ν´, ω) = Tuple(I)\n",
    "        Φ[I] = sum(Γ[ν,ν₁,ω] * X₀[ν₁,ω] * F[ν₁,ν´,ω] for ν₁ in axes(X₀, 1))\n",
    "    end\n",
    "    κ = channel isa SingletChannel ? 1 : -1\n",
    "    Φ .*= κ/β\n",
    "    return Γ .+ Φ\n",
    "end\n",
    "\n",
    "F_reconst = evalF(channel, ννω, Γ, X₀, F)\n",
    ";"
   ]
  },
  {
   "cell_type": "code",
   "execution_count": null,
   "metadata": {},
   "outputs": [],
   "source": [
    "@show maximum(abs, F)\n",
    "@show maximum(abs, F_reconst .- F)"
   ]
  },
  {
   "cell_type": "code",
   "execution_count": null,
   "metadata": {},
   "outputs": [],
   "source": [
    "sitesν = [Index(2, \"Qubit,ν=$n\") for n in 1:N]\n",
    "sitesν′ = [Index(2, \"Qubit,ν′=$n\") for n in 1:N]\n",
    "sitesω = [Index(2, \"Qubit,ω=$n\") for n in 1:N]\n",
    "sitesνν′ω = collect(Iterators.flatten(zip(sitesν, sitesν′, sitesω)))\n",
    "sitesνω = collect(Iterators.flatten(zip(sitesν, sitesω)))"
   ]
  },
  {
   "cell_type": "code",
   "execution_count": null,
   "metadata": {},
   "outputs": [],
   "source": [
    "revcat(x...) = vcat((reverse(x_) for x_ in x)...)\n",
    "Γ_qtt = MPS(ITensor(Γ, revcat(sitesν, sitesν′, sitesω)), reverse(sitesνν′ω); cutoff=1e-10)\n",
    "F_qtt = MPS(ITensor(F, revcat(sitesν, sitesν′, sitesω)), reverse(sitesνν′ω); cutoff=1e-10)\n",
    "X₀_qtt = MPS(ITensor(X₀, revcat(sitesν, sitesω)), reverse(sitesνω); cutoff=1e-10)"
   ]
  },
  {
   "cell_type": "code",
   "execution_count": null,
   "metadata": {},
   "outputs": [],
   "source": [
    "function _mul(A, B)\n",
    "    sitesshared = [Index(2, \"νs=$n\") for n in 1:N]\n",
    "    \n",
    "    A_ = deepcopy(A)\n",
    "    Quantics.replace_siteinds_part!(A_, sitesν′, sitesshared)\n",
    "    \n",
    "    B_ = deepcopy(B)\n",
    "    Quantics.replace_siteinds_part!(B_, sitesν, sitesshared)\n",
    "    \n",
    "    C = Quantics.automul(A_, B_; tag_row=\"ν\", tag_shared=\"νs\", tag_col=\"ν′\")\n",
    "    Quantics.cleanup_linkinds!(C)\n",
    "    \n",
    "    return C\n",
    "end\n",
    "\n",
    "_reconst(M) = reshape(Array(reduce(*, M), revcat(sitesν, sitesν′, sitesω)), 2^N, 2^N, 2^N)"
   ]
  },
  {
   "cell_type": "code",
   "execution_count": null,
   "metadata": {},
   "outputs": [],
   "source": [
    "X₀_full_qtt = Quantics.asdiagonal(X₀_qtt, sitesν′; tag=\"ν\")\n",
    "Φ_qtt = _mul(Γ_qtt, _mul(X₀_full_qtt, F_qtt))\n",
    "κ = channel isa SingletChannel ? 1 : -1\n",
    "Φ_qtt *= κ/β"
   ]
  },
  {
   "cell_type": "code",
   "execution_count": null,
   "metadata": {},
   "outputs": [],
   "source": [
    "Φ_reconst = _reconst(Φ_qtt)\n",
    "\n",
    "@show maximum(abs, Φ_reconst)\n",
    "@show maximum(abs, Φ)\n",
    "\n",
    "findmax(abs, Φ)"
   ]
  },
  {
   "cell_type": "code",
   "execution_count": null,
   "metadata": {},
   "outputs": [],
   "source": [
    "plot(real.(Φ[:, 8, 9]))\n",
    "plot(real.(Φ_reconst[:, 8, 9]))"
   ]
  },
  {
   "cell_type": "code",
   "execution_count": null,
   "metadata": {},
   "outputs": [],
   "source": [
    "@show maximum(abs, Φ)\n",
    "@show maximum(abs, Φ_reconst)\n",
    "plt[:pcolormesh](real.(Φ[:, :, 9]))\n",
    "colorbar()"
   ]
  },
  {
   "cell_type": "code",
   "execution_count": null,
   "metadata": {},
   "outputs": [],
   "source": [
    "plt[:pcolormesh](real.(Φ_reconst[:, :, 9]))\n",
    "colorbar()"
   ]
  },
  {
   "cell_type": "code",
   "execution_count": null,
   "metadata": {},
   "outputs": [],
   "source": []
  }
 ],
 "metadata": {
  "kernelspec": {
   "display_name": "Julia 1.8.1",
   "language": "julia",
   "name": "julia-1.8"
  },
  "language_info": {
   "file_extension": ".jl",
   "mimetype": "application/julia",
   "name": "julia",
   "version": "1.8.1"
  }
 },
 "nbformat": 4,
 "nbformat_minor": 4
}
