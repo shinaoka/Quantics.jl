{
 "cells": [
  {
   "cell_type": "code",
   "execution_count": null,
   "metadata": {},
   "outputs": [],
   "source": [
    "using Revise\n",
    "using Quantics\n",
    "using Memoize"
   ]
  },
  {
   "cell_type": "code",
   "execution_count": null,
   "metadata": {},
   "outputs": [],
   "source": [
    "f(x::Vector{Float64})::Float64 = x[1]^2 + x[2]^2\n",
    "ref = 2.0/3.0\n",
    "\n",
    "R = 30\n",
    "\n",
    "result = Quantics.adaptive_cubature(\n",
    "    Float64, 2, f, R; tolerance=1e-9, maxbonddim=100, verbosity=1, loginterval=1, ncheckhistory=3)\n",
    "@show result"
   ]
  },
  {
   "cell_type": "code",
   "execution_count": null,
   "metadata": {},
   "outputs": [],
   "source": [
    "function _genfx()\n",
    "    cache = Set{Float64}()\n",
    "\n",
    "    @memoize function _fx(x)::Float64\n",
    "        #println(\"$x\")\n",
    "        push!(cache, x)\n",
    "        return x^2 #+ 1.0/3.0\n",
    "    end\n",
    "    return _fx, cache\n",
    "end\n",
    "\n",
    "fx, cache = _genfx()\n",
    "\n",
    "result = Quantics.adaptive_quadrature(\n",
    "    Float64, fx, R; tolerance=1e-12, maxbonddim=100, verbosity=1, loginterval=1, ncheckhistory=4)"
   ]
  },
  {
   "cell_type": "code",
   "execution_count": null,
   "metadata": {},
   "outputs": [],
   "source": [
    "length(cache)"
   ]
  },
  {
   "cell_type": "code",
   "execution_count": null,
   "metadata": {},
   "outputs": [],
   "source": []
  }
 ],
 "metadata": {
  "kernelspec": {
   "display_name": "Julia 1.9.1",
   "language": "julia",
   "name": "julia-1.9"
  },
  "language_info": {
   "file_extension": ".jl",
   "mimetype": "application/julia",
   "name": "julia",
   "version": "1.9.1"
  },
  "orig_nbformat": 4
 },
 "nbformat": 4,
 "nbformat_minor": 2
}
